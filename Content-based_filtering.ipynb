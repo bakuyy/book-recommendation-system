{
 "cells": [
  {
   "cell_type": "code",
   "execution_count": 1,
   "id": "2aa10480-14b9-4457-b9e6-8f1fc12a1b58",
   "metadata": {},
   "outputs": [],
   "source": [
    "import numpy as np\n",
    "import pandas as pd\n",
    "import matplotlib.pyplot as plt\n",
    "import os"
   ]
  },
  {
   "cell_type": "code",
   "execution_count": 11,
   "id": "b6964f4c-e77e-404f-a604-005b97f38aa6",
   "metadata": {},
   "outputs": [
    {
     "data": {
      "text/html": [
       "<div>\n",
       "<style scoped>\n",
       "    .dataframe tbody tr th:only-of-type {\n",
       "        vertical-align: middle;\n",
       "    }\n",
       "\n",
       "    .dataframe tbody tr th {\n",
       "        vertical-align: top;\n",
       "    }\n",
       "\n",
       "    .dataframe thead th {\n",
       "        text-align: right;\n",
       "    }\n",
       "</style>\n",
       "<table border=\"1\" class=\"dataframe\">\n",
       "  <thead>\n",
       "    <tr style=\"text-align: right;\">\n",
       "      <th></th>\n",
       "      <th>title</th>\n",
       "      <th>genre</th>\n",
       "      <th>Actual Rating</th>\n",
       "    </tr>\n",
       "  </thead>\n",
       "  <tbody>\n",
       "    <tr>\n",
       "      <th>0</th>\n",
       "      <td>Pride and Prejudice and Zombies Pride and Prej...</td>\n",
       "      <td>['fantasy, paranormal', 'romance', 'fiction', ...</td>\n",
       "      <td>5</td>\n",
       "    </tr>\n",
       "    <tr>\n",
       "      <th>1</th>\n",
       "      <td>Blue Bloods Blue Bloods 1</td>\n",
       "      <td>['young-adult', 'fantasy, paranormal', 'romanc...</td>\n",
       "      <td>3</td>\n",
       "    </tr>\n",
       "    <tr>\n",
       "      <th>2</th>\n",
       "      <td>Me Before You Me Before You 1</td>\n",
       "      <td>['romance', 'fiction']</td>\n",
       "      <td>3</td>\n",
       "    </tr>\n",
       "    <tr>\n",
       "      <th>3</th>\n",
       "      <td>Sharp Objects</td>\n",
       "      <td>['mystery, thriller, crime', 'fiction']</td>\n",
       "      <td>4</td>\n",
       "    </tr>\n",
       "    <tr>\n",
       "      <th>4</th>\n",
       "      <td>The Way of Kings The Stormlight Archive 1</td>\n",
       "      <td>['fantasy, paranormal', 'fiction']</td>\n",
       "      <td>5</td>\n",
       "    </tr>\n",
       "  </tbody>\n",
       "</table>\n",
       "</div>"
      ],
      "text/plain": [
       "                                               title  \\\n",
       "0  Pride and Prejudice and Zombies Pride and Prej...   \n",
       "1                          Blue Bloods Blue Bloods 1   \n",
       "2                      Me Before You Me Before You 1   \n",
       "3                                      Sharp Objects   \n",
       "4          The Way of Kings The Stormlight Archive 1   \n",
       "\n",
       "                                               genre  Actual Rating  \n",
       "0  ['fantasy, paranormal', 'romance', 'fiction', ...              5  \n",
       "1  ['young-adult', 'fantasy, paranormal', 'romanc...              3  \n",
       "2                             ['romance', 'fiction']              3  \n",
       "3            ['mystery, thriller, crime', 'fiction']              4  \n",
       "4                 ['fantasy, paranormal', 'fiction']              5  "
      ]
     },
     "execution_count": 11,
     "metadata": {},
     "output_type": "execute_result"
    }
   ],
   "source": [
    "genre_df = pd.read_csv('collaborative_book_metadata.csv')\n",
    "ratings_df = pd.read_csv('collaborative_books_df.csv')\n",
    "ratings_df.head()\n",
    "\n",
    "frames = [genre_df[\"title\"], genre_df[\"genre\"],ratings_df[\"Actual Rating\"]]\n",
    "result = pd.concat(frames, axis=1)\n",
    "result.head()\n",
    "\n"
   ]
  },
  {
   "cell_type": "code",
   "execution_count": null,
   "id": "6bf88333-8082-4a9d-bc55-8f204ce90990",
   "metadata": {},
   "outputs": [],
   "source": []
  }
 ],
 "metadata": {
  "kernelspec": {
   "display_name": "Python 3 (ipykernel)",
   "language": "python",
   "name": "python3"
  },
  "language_info": {
   "codemirror_mode": {
    "name": "ipython",
    "version": 3
   },
   "file_extension": ".py",
   "mimetype": "text/x-python",
   "name": "python",
   "nbconvert_exporter": "python",
   "pygments_lexer": "ipython3",
   "version": "3.12.4"
  }
 },
 "nbformat": 4,
 "nbformat_minor": 5
}
